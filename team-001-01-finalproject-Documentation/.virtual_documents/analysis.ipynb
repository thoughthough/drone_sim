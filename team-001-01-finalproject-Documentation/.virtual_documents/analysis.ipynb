import numpy as np
import pandas as pd
import matplotlib.pyplot as plt

df = pd.read_csv('logs/collectedData.csv', index_col=False)


print(df.columns)


df


df['Start'] = df[' Start Coordinates'].str.split(':')
df[' End Coordinates'].info()
# df['End'] = df[' End Coordinates'].str.split(':')


df['End'][0]


print("Elapsed time:")
for strat in df["Strategy"].unique():
    print('\n' + strat) 
    print(df[df['Strategy'] == strat]['Elapsed Time'].describe())


df['x'] = df['End'].apply(lambda x: x[0])
df['y'] = df['End'].apply(lambda x: x[2])


plt.figure(figsize=(10, 6))
for strat in df['Strategy'].unique():
    subset = df[df['Strategy'] == strat]
    plt.scatter(subset['x'], subset['y'], label=strat)

# subset = df[['Strategy'] == strat]
plt.scatter(subset['x'], subset['y'], label=strat)
plt.title('Drone Delivery End Locations by Strategy')
plt.xlabel('X Coordinate')
plt.ylabel('Y Coordinate')
plt.legend()
# plt.xlim(-1400, 1500)
# plt.ylim(-800, 800)
plt.gca().set_aspect(1600/1600)
plt.show()


subset



